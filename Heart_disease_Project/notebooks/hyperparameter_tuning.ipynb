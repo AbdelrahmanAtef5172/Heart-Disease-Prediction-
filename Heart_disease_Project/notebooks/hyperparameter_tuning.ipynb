{
 "cells": [
  {
   "cell_type": "code",
   "execution_count": 1,
   "id": "1f952038",
   "metadata": {},
   "outputs": [],
   "source": [
    "%store -r df_pca\n",
    "%store -r df\n",
    "%store -r df_selected"
   ]
  },
  {
   "cell_type": "code",
   "execution_count": 2,
   "id": "b6fa9767",
   "metadata": {},
   "outputs": [
    {
     "name": "stdout",
     "output_type": "stream",
     "text": [
      "Baseline Accuracy: 1.0\n",
      "GridSearchCV Best Accuracy: 0.9966996699669967\n",
      "RandomizedSearchCV Best Accuracy: 0.9966996699669967\n",
      "Best Model (GridSearchCV): RandomForestClassifier(min_samples_split=5, n_estimators=200, random_state=42)\n",
      "Best Model (RandomizedSearchCV): RandomForestClassifier(max_depth=30, min_samples_split=5, n_estimators=200,\n",
      "                       random_state=42)\n"
     ]
    }
   ],
   "source": [
    "from sklearn.model_selection import GridSearchCV, RandomizedSearchCV\n",
    "from sklearn.ensemble import RandomForestClassifier\n",
    "from sklearn.metrics import accuracy_score\n",
    "\n",
    "# Baseline model\n",
    "rf = RandomForestClassifier(random_state=42)\n",
    "rf.fit(df_selected.drop('target', axis=1), df_selected['target'])\n",
    "baseline_acc = accuracy_score(df_selected['target'], rf.predict(df_selected.drop('target', axis=1)))\n",
    "\n",
    "# GridSearchCV\n",
    "param_grid = {\n",
    "    'n_estimators': [50, 100, 200],\n",
    "    'max_depth': [None, 5, 10, 20],\n",
    "    'min_samples_split': [2, 5, 10]\n",
    "}\n",
    "grid_search = GridSearchCV(RandomForestClassifier(random_state=42), param_grid, cv=5, n_jobs=-1)\n",
    "grid_search.fit(df_selected.drop('target', axis=1), df_selected['target'])\n",
    "grid_acc = accuracy_score(df_selected['target'], grid_search.predict(df_selected.drop('target', axis=1)))\n",
    "\n",
    "# RandomizedSearchCV\n",
    "param_dist = {\n",
    "    'n_estimators': [50, 100, 200, 300],\n",
    "    'max_depth': [None, 5, 10, 20, 30],\n",
    "    'min_samples_split': [2, 5, 10, 15]\n",
    "}\n",
    "random_search = RandomizedSearchCV(RandomForestClassifier(random_state=42), param_dist, n_iter=10, cv=5, n_jobs=-1, random_state=42)\n",
    "random_search.fit(df_selected.drop('target', axis=1), df_selected['target'])\n",
    "random_acc = accuracy_score(df_selected['target'], random_search.predict(df_selected.drop('target', axis=1)))\n",
    "\n",
    "# Compare results\n",
    "print(\"Baseline Accuracy:\", baseline_acc)\n",
    "print(\"GridSearchCV Best Accuracy:\", grid_acc)\n",
    "print(\"RandomizedSearchCV Best Accuracy:\", random_acc)\n",
    "print(\"Best Model (GridSearchCV):\", grid_search.best_estimator_)\n",
    "print(\"Best Model (RandomizedSearchCV):\", random_search.best_estimator_)"
   ]
  },
  {
   "cell_type": "code",
   "execution_count": 4,
   "id": "5fb46153",
   "metadata": {},
   "outputs": [
    {
     "name": "stdout",
     "output_type": "stream",
     "text": [
      "✅ Model saved as model.pkl\n"
     ]
    }
   ],
   "source": [
    "import joblib\n",
    "\n",
    "# Save the best model from GridSearchCV\n",
    "joblib.dump(grid_search.best_estimator_, \"model.pkl\")\n",
    "print(\"✅ Model saved as model.pkl\")"
   ]
  }
 ],
 "metadata": {
  "kernelspec": {
   "display_name": "Python 3",
   "language": "python",
   "name": "python3"
  },
  "language_info": {
   "codemirror_mode": {
    "name": "ipython",
    "version": 3
   },
   "file_extension": ".py",
   "mimetype": "text/x-python",
   "name": "python",
   "nbconvert_exporter": "python",
   "pygments_lexer": "ipython3",
   "version": "3.13.5"
  }
 },
 "nbformat": 4,
 "nbformat_minor": 5
}
